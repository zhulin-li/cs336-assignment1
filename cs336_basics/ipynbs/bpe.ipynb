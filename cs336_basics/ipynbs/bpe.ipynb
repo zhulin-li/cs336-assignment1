{
 "cells": [
  {
   "cell_type": "code",
   "execution_count": 1,
   "id": "cc7b1f08-da2e-49dd-bfb1-078537eaf4e1",
   "metadata": {
    "execution": {
     "iopub.execute_input": "2025-08-18T02:02:52.793881Z",
     "iopub.status.busy": "2025-08-18T02:02:52.793780Z",
     "iopub.status.idle": "2025-08-18T02:02:53.128692Z",
     "shell.execute_reply": "2025-08-18T02:02:53.128301Z",
     "shell.execute_reply.started": "2025-08-18T02:02:52.793870Z"
    }
   },
   "outputs": [],
   "source": [
    "import pickle\n",
    "import random\n",
    "import time\n",
    "\n",
    "import numpy as np\n",
    "import pandas as pd\n",
    "\n",
    "# I had to run \"pip install -e .\" in the directory cs336-assignment1\n",
    "# for the following imports to work.\n",
    "from cs336_basics.bpe import ENCODING, train_bpe\n",
    "from cs336_basics.tokenizer import Tokenizer\n",
    "from cs336_basics.utils import Timer"
   ]
  },
  {
   "cell_type": "code",
   "execution_count": 2,
   "id": "0f488cc3-2394-4ab0-ad43-0e7d29a346a2",
   "metadata": {
    "execution": {
     "iopub.execute_input": "2025-08-18T02:02:53.129326Z",
     "iopub.status.busy": "2025-08-18T02:02:53.129184Z",
     "iopub.status.idle": "2025-08-18T02:02:53.131571Z",
     "shell.execute_reply": "2025-08-18T02:02:53.131133Z",
     "shell.execute_reply.started": "2025-08-18T02:02:53.129316Z"
    }
   },
   "outputs": [],
   "source": [
    "special_tokens = [\"<|endoftext|>\"]"
   ]
  },
  {
   "cell_type": "markdown",
   "id": "18c7a99c",
   "metadata": {},
   "source": [
    "# Tiny Stories"
   ]
  },
  {
   "cell_type": "markdown",
   "id": "a2b04065-f72c-4b28-8e8f-a08b3478f1c4",
   "metadata": {},
   "source": [
    "## Build Vocab"
   ]
  },
  {
   "cell_type": "code",
   "execution_count": 3,
   "id": "b5e5d150",
   "metadata": {},
   "outputs": [
    {
     "name": "stdout",
     "output_type": "stream",
     "text": [
      "CPU times: user 16 s, sys: 216 ms, total: 16.2 s\n",
      "Wall time: 1min 1s\n"
     ]
    }
   ],
   "source": [
    "%%time\n",
    "vocab, merges = train_bpe(\n",
    "    \"../../data/TinyStoriesV2-GPT4-train.txt\", 10_000, special_tokens\n",
    ")  # 1min"
   ]
  },
  {
   "cell_type": "code",
   "execution_count": 5,
   "id": "896ec4c1",
   "metadata": {
    "execution": {
     "iopub.execute_input": "2025-08-18T02:03:34.282370Z",
     "iopub.status.busy": "2025-08-18T02:03:34.281529Z",
     "iopub.status.idle": "2025-08-18T02:03:34.298767Z",
     "shell.execute_reply": "2025-08-18T02:03:34.296109Z",
     "shell.execute_reply.started": "2025-08-18T02:03:34.282341Z"
    }
   },
   "outputs": [],
   "source": [
    "# with open('../output/tiny_stories_bpe_vocab.pkl', 'wb') as file:\n",
    "#     pickle.dump(vocab, file)\n",
    "# with open('../output/tiny_stories_bpe_merges.pkl', 'wb') as file:\n",
    "#     pickle.dump(merges, file)\n",
    "\n",
    "with open(\"../../output/tiny_stories_bpe_vocab.pkl\", \"rb\") as file:\n",
    "    vocab = pickle.load(file)\n",
    "with open(\"../../output/tiny_stories_bpe_merges.pkl\", \"rb\") as file:\n",
    "    merges = pickle.load(file)"
   ]
  },
  {
   "cell_type": "code",
   "execution_count": 6,
   "id": "e8d60f04",
   "metadata": {
    "execution": {
     "iopub.execute_input": "2025-08-18T02:03:35.481597Z",
     "iopub.status.busy": "2025-08-18T02:03:35.480664Z",
     "iopub.status.idle": "2025-08-18T02:03:35.499453Z",
     "shell.execute_reply": "2025-08-18T02:03:35.498104Z",
     "shell.execute_reply.started": "2025-08-18T02:03:35.481568Z"
    }
   },
   "outputs": [
    {
     "data": {
      "text/plain": [
       "' accomplishment'"
      ]
     },
     "execution_count": 6,
     "metadata": {},
     "output_type": "execute_result"
    }
   ],
   "source": [
    "# longest token in vocab\n",
    "max(vocab.values(), key=lambda token: len(token)).decode(encoding=ENCODING)"
   ]
  },
  {
   "cell_type": "markdown",
   "id": "c4ca2e36-9267-4562-99e5-30792edb40d9",
   "metadata": {},
   "source": [
    "## Compression Ratio"
   ]
  },
  {
   "cell_type": "code",
   "execution_count": 10,
   "id": "3ac68b59-1a10-44b9-8749-882620b55976",
   "metadata": {
    "execution": {
     "iopub.execute_input": "2025-08-18T02:04:25.173931Z",
     "iopub.status.busy": "2025-08-18T02:04:25.173530Z",
     "iopub.status.idle": "2025-08-18T02:04:25.186547Z",
     "shell.execute_reply": "2025-08-18T02:04:25.185543Z",
     "shell.execute_reply.started": "2025-08-18T02:04:25.173907Z"
    }
   },
   "outputs": [],
   "source": [
    "tokenizer_ts = Tokenizer.from_files(\n",
    "    \"../../output/tiny_stories_bpe_vocab.pkl\",\n",
    "    \"../../output/tiny_stories_bpe_merges.pkl\",\n",
    "    special_tokens,\n",
    ")"
   ]
  },
  {
   "cell_type": "code",
   "execution_count": 28,
   "id": "929e0ceb-4624-483b-b3c0-fd8a75fbafa8",
   "metadata": {
    "execution": {
     "iopub.execute_input": "2025-08-18T02:06:42.317055Z",
     "iopub.status.busy": "2025-08-18T02:06:42.316674Z",
     "iopub.status.idle": "2025-08-18T02:06:42.325364Z",
     "shell.execute_reply": "2025-08-18T02:06:42.324632Z",
     "shell.execute_reply.started": "2025-08-18T02:06:42.317029Z"
    }
   },
   "outputs": [
    {
     "name": "stdout",
     "output_type": "stream",
     "text": [
      "['<|endoftext|>']\n"
     ]
    },
    {
     "data": {
      "text/plain": [
       "126"
      ]
     },
     "execution_count": 28,
     "metadata": {},
     "output_type": "execute_result"
    }
   ],
   "source": [
    "start = 0\n",
    "end = 100_000\n",
    "with open(\"../../data/TinyStoriesV2-GPT4-train.txt\", \"rb\") as f:\n",
    "    f.seek(start)\n",
    "    chunk: str = f.read(end - start).decode(encoding=ENCODING)\n",
    "\n",
    "print(special_tokens)\n",
    "chunks_ts = chunk.split(special_tokens[0])\n",
    "len(chunks_ts)"
   ]
  },
  {
   "cell_type": "code",
   "execution_count": 13,
   "id": "174e9be6-b8bb-4644-b7af-954a4f648ae2",
   "metadata": {
    "execution": {
     "iopub.execute_input": "2025-08-18T02:04:33.203236Z",
     "iopub.status.busy": "2025-08-18T02:04:33.200786Z",
     "iopub.status.idle": "2025-08-18T02:04:33.392884Z",
     "shell.execute_reply": "2025-08-18T02:04:33.392442Z",
     "shell.execute_reply.started": "2025-08-18T02:04:33.203183Z"
    }
   },
   "outputs": [
    {
     "name": "stdout",
     "output_type": "stream",
     "text": [
      "compression_ratio=4.0\n"
     ]
    }
   ],
   "source": [
    "res = []\n",
    "for chunk in random.sample(chunks_ts[1:-1], k=10):\n",
    "    tokens = tokenizer_ts.encode(chunk)\n",
    "    compression_ratio = len(chunk.encode(encoding=ENCODING)) / len(tokens)\n",
    "    res.append(compression_ratio)\n",
    "print(f\"compression_ratio={np.array(res).mean():.1f}\")"
   ]
  },
  {
   "cell_type": "code",
   "execution_count": 29,
   "id": "04534ed6-83ff-4d4a-908d-30bd100e4c51",
   "metadata": {
    "execution": {
     "iopub.execute_input": "2025-08-18T02:06:43.423868Z",
     "iopub.status.busy": "2025-08-18T02:06:43.423482Z",
     "iopub.status.idle": "2025-08-18T02:06:43.774866Z",
     "shell.execute_reply": "2025-08-18T02:06:43.774532Z",
     "shell.execute_reply.started": "2025-08-18T02:06:43.423841Z"
    }
   },
   "outputs": [
    {
     "name": "stdout",
     "output_type": "stream",
     "text": [
      "compression_ratio=3.9\n"
     ]
    }
   ],
   "source": [
    "# Use OpenWebText Tokenizer on TinyStories\n",
    "res = []\n",
    "for chunk in random.sample(chunks_ts[1:-1], k=10):\n",
    "    tokens = tokenizer_owt.encode(chunk)\n",
    "    compression_ratio = len(chunk.encode(encoding=ENCODING)) / len(tokens)\n",
    "    res.append(compression_ratio)\n",
    "print(f\"compression_ratio={np.array(res).mean():.1f}\")"
   ]
  },
  {
   "cell_type": "markdown",
   "id": "bb0c4983-cbad-40f9-ab3f-68ace0fe6959",
   "metadata": {},
   "source": [
    "## Throughput"
   ]
  },
  {
   "cell_type": "code",
   "execution_count": 14,
   "id": "44102af9-ccf2-4193-9ebf-a3af9bc2a4cf",
   "metadata": {
    "execution": {
     "iopub.execute_input": "2025-08-18T02:04:37.921260Z",
     "iopub.status.busy": "2025-08-18T02:04:37.920588Z",
     "iopub.status.idle": "2025-08-18T02:04:37.939152Z",
     "shell.execute_reply": "2025-08-18T02:04:37.938496Z",
     "shell.execute_reply.started": "2025-08-18T02:04:37.921234Z"
    }
   },
   "outputs": [],
   "source": [
    "target_size = 1000\n",
    "start = 0\n",
    "end = 10_000_000\n",
    "with open(\"../../data/TinyStoriesV2-GPT4-train.txt\", \"rb\") as f:\n",
    "    f.seek(start)\n",
    "    chunk: bytes = f.read(end - start)\n",
    "data_size_bytes = len(chunk)"
   ]
  },
  {
   "cell_type": "code",
   "execution_count": 15,
   "id": "5b327eb0-c58a-4026-9d0b-9be6b343e54b",
   "metadata": {
    "execution": {
     "iopub.execute_input": "2025-08-18T02:04:43.113519Z",
     "iopub.status.busy": "2025-08-18T02:04:43.113168Z",
     "iopub.status.idle": "2025-08-18T02:04:56.005877Z",
     "shell.execute_reply": "2025-08-18T02:04:56.005581Z",
     "shell.execute_reply.started": "2025-08-18T02:04:43.113495Z"
    }
   },
   "outputs": [
    {
     "data": {
      "text/plain": [
       "775867.5833202705"
      ]
     },
     "execution_count": 15,
     "metadata": {},
     "output_type": "execute_result"
    }
   ],
   "source": [
    "start = time.time()\n",
    "for _ in tokenizer_ts.encode_iterable([chunk.decode(encoding=ENCODING)]):\n",
    "    pass\n",
    "end = time.time()\n",
    "duration = end - start\n",
    "throughput = data_size_bytes / duration\n",
    "throughput  # 670KB/s"
   ]
  },
  {
   "cell_type": "code",
   "execution_count": 16,
   "id": "0bee9ac7-2584-4d13-b46f-edb0ac330e54",
   "metadata": {
    "execution": {
     "iopub.execute_input": "2025-08-18T02:04:56.006890Z",
     "iopub.status.busy": "2025-08-18T02:04:56.006780Z",
     "iopub.status.idle": "2025-08-18T02:04:56.011135Z",
     "shell.execute_reply": "2025-08-18T02:04:56.010799Z",
     "shell.execute_reply.started": "2025-08-18T02:04:56.006881Z"
    }
   },
   "outputs": [
    {
     "data": {
      "text/plain": [
       "Timedelta('12 days 07:22:05.775861740')"
      ]
     },
     "execution_count": 16,
     "metadata": {},
     "output_type": "execute_result"
    }
   ],
   "source": [
    "pd.Timedelta(seconds=825e9 / throughput)  # Pile dataset is 825GB"
   ]
  },
  {
   "cell_type": "markdown",
   "id": "ef098800",
   "metadata": {},
   "source": [
    "# OWT"
   ]
  },
  {
   "cell_type": "code",
   "execution_count": 6,
   "id": "5c19381a",
   "metadata": {},
   "outputs": [
    {
     "name": "stdout",
     "output_type": "stream",
     "text": [
      "CPU times: user 48min 17s, sys: 12min 44s, total: 1h 1min 2s\n",
      "Wall time: 1h 7min 15s\n"
     ]
    }
   ],
   "source": [
    "%%time\n",
    "vocab, merges = train_bpe(\"../../data/owt_train.txt\", 32_000, special_tokens)  # 1h7min"
   ]
  },
  {
   "cell_type": "code",
   "execution_count": 19,
   "id": "025cbdd4",
   "metadata": {
    "execution": {
     "iopub.execute_input": "2025-08-18T02:05:39.878152Z",
     "iopub.status.busy": "2025-08-18T02:05:39.877786Z",
     "iopub.status.idle": "2025-08-18T02:05:39.905660Z",
     "shell.execute_reply": "2025-08-18T02:05:39.905317Z",
     "shell.execute_reply.started": "2025-08-18T02:05:39.878127Z"
    }
   },
   "outputs": [],
   "source": [
    "# with open('../../output/owt_bpe_vocab.pkl', 'wb') as file:\n",
    "#     pickle.dump(vocab, file)\n",
    "# with open('../../output/owt_bpe_merges.pkl', 'wb') as file:\n",
    "#     pickle.dump(merges, file)\n",
    "\n",
    "with open(\"../../output/owt_bpe_vocab.pkl\", \"rb\") as file:\n",
    "    vocab = pickle.load(file)\n",
    "with open(\"../../output/owt_bpe_merges.pkl\", \"rb\") as file:\n",
    "    merges = pickle.load(file)"
   ]
  },
  {
   "cell_type": "code",
   "execution_count": 20,
   "id": "07b0af16",
   "metadata": {
    "execution": {
     "iopub.execute_input": "2025-08-18T02:05:40.660124Z",
     "iopub.status.busy": "2025-08-18T02:05:40.659942Z",
     "iopub.status.idle": "2025-08-18T02:05:40.665140Z",
     "shell.execute_reply": "2025-08-18T02:05:40.664696Z",
     "shell.execute_reply.started": "2025-08-18T02:05:40.660111Z"
    }
   },
   "outputs": [
    {
     "data": {
      "text/plain": [
       "'ÃÂÃÂÃÂÃÂÃÂÃÂÃÂÃÂÃÂÃÂÃÂÃÂÃÂÃÂÃÂÃÂ'"
      ]
     },
     "execution_count": 20,
     "metadata": {},
     "output_type": "execute_result"
    }
   ],
   "source": [
    "# longest token in vocab\n",
    "max(vocab.values(), key=lambda token: len(token)).decode(encoding=ENCODING)"
   ]
  },
  {
   "cell_type": "code",
   "execution_count": 21,
   "id": "01e6144b",
   "metadata": {
    "execution": {
     "iopub.execute_input": "2025-08-18T02:05:41.707737Z",
     "iopub.status.busy": "2025-08-18T02:05:41.704881Z",
     "iopub.status.idle": "2025-08-18T02:05:41.722813Z",
     "shell.execute_reply": "2025-08-18T02:05:41.721666Z",
     "shell.execute_reply.started": "2025-08-18T02:05:41.707671Z"
    }
   },
   "outputs": [
    {
     "data": {
      "text/plain": [
       "32000"
      ]
     },
     "execution_count": 21,
     "metadata": {},
     "output_type": "execute_result"
    }
   ],
   "source": [
    "len(vocab)"
   ]
  },
  {
   "cell_type": "markdown",
   "id": "e49507a1-0c37-48c1-ac9d-621b01f716ae",
   "metadata": {},
   "source": [
    "## Compression Ratio"
   ]
  },
  {
   "cell_type": "code",
   "execution_count": 23,
   "id": "4992c786-c6e2-4b00-9167-f01a22d77478",
   "metadata": {
    "execution": {
     "iopub.execute_input": "2025-08-18T02:06:21.810919Z",
     "iopub.status.busy": "2025-08-18T02:06:21.810145Z",
     "iopub.status.idle": "2025-08-18T02:06:21.858143Z",
     "shell.execute_reply": "2025-08-18T02:06:21.857672Z",
     "shell.execute_reply.started": "2025-08-18T02:06:21.810831Z"
    }
   },
   "outputs": [],
   "source": [
    "tokenizer_owt = Tokenizer.from_files(\n",
    "    \"../../output/owt_bpe_vocab.pkl\",\n",
    "    \"../../output/owt_bpe_merges.pkl\",\n",
    "    special_tokens,\n",
    ")"
   ]
  },
  {
   "cell_type": "code",
   "execution_count": 24,
   "id": "cd3137d9",
   "metadata": {
    "execution": {
     "iopub.execute_input": "2025-08-18T02:06:26.083178Z",
     "iopub.status.busy": "2025-08-18T02:06:26.081806Z",
     "iopub.status.idle": "2025-08-18T02:06:26.100342Z",
     "shell.execute_reply": "2025-08-18T02:06:26.097932Z",
     "shell.execute_reply.started": "2025-08-18T02:06:26.083131Z"
    }
   },
   "outputs": [
    {
     "name": "stdout",
     "output_type": "stream",
     "text": [
      "['<|endoftext|>']\n"
     ]
    },
    {
     "data": {
      "text/plain": [
       "126"
      ]
     },
     "execution_count": 24,
     "metadata": {},
     "output_type": "execute_result"
    }
   ],
   "source": [
    "start = 0\n",
    "end = 100_000\n",
    "with open(\"../../data/owt_train.txt\", \"rb\") as f:\n",
    "    f.seek(start)\n",
    "    chunk: str = f.read(end - start).decode(encoding=ENCODING)\n",
    "\n",
    "print(special_tokens)\n",
    "chunks_owt = chunk.split(special_tokens[0])\n",
    "len(chunks_ts)"
   ]
  },
  {
   "cell_type": "code",
   "execution_count": 25,
   "id": "722e6694-67c8-43e5-9d8b-f76b04d9914c",
   "metadata": {
    "execution": {
     "iopub.execute_input": "2025-08-18T02:06:28.104954Z",
     "iopub.status.busy": "2025-08-18T02:06:28.104565Z",
     "iopub.status.idle": "2025-08-18T02:06:31.432273Z",
     "shell.execute_reply": "2025-08-18T02:06:31.431806Z",
     "shell.execute_reply.started": "2025-08-18T02:06:28.104929Z"
    }
   },
   "outputs": [
    {
     "name": "stdout",
     "output_type": "stream",
     "text": [
      "compression_ratio=4.4\n"
     ]
    }
   ],
   "source": [
    "res = []\n",
    "for chunk in random.sample(chunks_owt[1:-1], k=10):\n",
    "    tokens = tokenizer_owt.encode(chunk)\n",
    "    compression_ratio = len(chunk.encode(encoding=ENCODING)) / len(tokens)\n",
    "    res.append(compression_ratio)\n",
    "print(f\"compression_ratio={np.array(res).mean():.1f}\")"
   ]
  },
  {
   "cell_type": "code",
   "execution_count": 26,
   "id": "91071843-6487-47da-8c6c-1d0374a14f38",
   "metadata": {
    "execution": {
     "iopub.execute_input": "2025-08-18T02:06:31.433134Z",
     "iopub.status.busy": "2025-08-18T02:06:31.432983Z",
     "iopub.status.idle": "2025-08-18T02:06:33.207312Z",
     "shell.execute_reply": "2025-08-18T02:06:33.206989Z",
     "shell.execute_reply.started": "2025-08-18T02:06:31.433122Z"
    }
   },
   "outputs": [
    {
     "name": "stdout",
     "output_type": "stream",
     "text": [
      "compression_ratio=3.1\n"
     ]
    }
   ],
   "source": [
    "# Use TinyStories Tokenizer on OpenWebText\n",
    "res = []\n",
    "for chunk in random.sample(chunks_owt[1:-1], k=10):\n",
    "    tokens = tokenizer_ts.encode(chunk)\n",
    "    compression_ratio = len(chunk.encode(encoding=ENCODING)) / len(tokens)\n",
    "    res.append(compression_ratio)\n",
    "print(f\"compression_ratio={np.array(res).mean():.1f}\")"
   ]
  },
  {
   "cell_type": "code",
   "execution_count": null,
   "id": "7e80ba72-39f7-4800-999b-d0f43c0f1078",
   "metadata": {},
   "outputs": [],
   "source": []
  }
 ],
 "metadata": {
  "kernelspec": {
   "display_name": "Python 3 (ipykernel)",
   "language": "python",
   "name": "python3"
  },
  "language_info": {
   "codemirror_mode": {
    "name": "ipython",
    "version": 3
   },
   "file_extension": ".py",
   "mimetype": "text/x-python",
   "name": "python",
   "nbconvert_exporter": "python",
   "pygments_lexer": "ipython3",
   "version": "3.13.5"
  }
 },
 "nbformat": 4,
 "nbformat_minor": 5
}
