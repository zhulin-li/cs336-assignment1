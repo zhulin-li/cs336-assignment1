{
 "cells": [
  {
   "cell_type": "code",
   "execution_count": 1,
   "id": "490a5bf2",
   "metadata": {},
   "outputs": [],
   "source": [
    "from bpe import  train_bpe\n",
    "import pickle"
   ]
  },
  {
   "cell_type": "markdown",
   "id": "017e723f",
   "metadata": {},
   "source": [
    "# Small"
   ]
  },
  {
   "cell_type": "code",
   "execution_count": 2,
   "id": "0363838a",
   "metadata": {},
   "outputs": [],
   "source": [
    "# vocab, merges = train_bpe('../data/small.txt', 10_000, ['<|endoftext|>', ])"
   ]
  },
  {
   "cell_type": "markdown",
   "id": "18c7a99c",
   "metadata": {},
   "source": [
    "# Tiny Stories"
   ]
  },
  {
   "cell_type": "code",
   "execution_count": 3,
   "id": "b5e5d150",
   "metadata": {},
   "outputs": [
    {
     "name": "stdout",
     "output_type": "stream",
     "text": [
      "CPU times: user 18.8 s, sys: 201 ms, total: 19 s\n",
      "Wall time: 1min 9s\n"
     ]
    }
   ],
   "source": [
    "%%time\n",
    "vocab, merges = train_bpe('../data/TinyStoriesV2-GPT4-train.txt', 10_000, ['<|endoftext|>', ])"
   ]
  },
  {
   "cell_type": "code",
   "execution_count": 5,
   "id": "e8d60f04",
   "metadata": {},
   "outputs": [
    {
     "data": {
      "text/plain": [
       "b' accomplishment'"
      ]
     },
     "execution_count": 5,
     "metadata": {},
     "output_type": "execute_result"
    }
   ],
   "source": [
    "# longest token in vocab\n",
    "max(vocab.values(), key=lambda token: len(token))"
   ]
  },
  {
   "cell_type": "markdown",
   "id": "ef098800",
   "metadata": {},
   "source": [
    "# OWT"
   ]
  },
  {
   "cell_type": "code",
   "execution_count": 3,
   "id": "5c19381a",
   "metadata": {},
   "outputs": [
    {
     "name": "stdout",
     "output_type": "stream",
     "text": [
      "CPU times: user 10min 39s, sys: 9min 57s, total: 20min 37s\n",
      "Wall time: 26min 26s\n"
     ]
    }
   ],
   "source": [
    "%%time\n",
    "vocab, merges = train_bpe('../data/owt_train.txt', 10_000, ['<|endoftext|>', ]) # takes 26min"
   ]
  },
  {
   "cell_type": "code",
   "execution_count": null,
   "id": "025cbdd4",
   "metadata": {},
   "outputs": [],
   "source": [
    "with open('../output/owt_train_bpe_vocab.pkl', 'wb') as file:\n",
    "    pickle.dump(vocab, file)\n",
    "with open('../output/owt_train_bpe_merges.pkl', 'wb') as file:\n",
    "    pickle.dump(merges, file)\n",
    "\n",
    "# with open('../output/owt_train_bpe_vocab.pkl', 'rb') as file:\n",
    "#     vocab = pickle.load(file)"
   ]
  },
  {
   "cell_type": "code",
   "execution_count": 7,
   "id": "07b0af16",
   "metadata": {},
   "outputs": [
    {
     "data": {
      "text/plain": [
       "b'----------------'"
      ]
     },
     "execution_count": 7,
     "metadata": {},
     "output_type": "execute_result"
    }
   ],
   "source": [
    "# longest token in vocab\n",
    "max(vocab.values(), key=lambda token: len(token))"
   ]
  },
  {
   "cell_type": "code",
   "execution_count": null,
   "id": "01e6144b",
   "metadata": {},
   "outputs": [],
   "source": []
  }
 ],
 "metadata": {
  "kernelspec": {
   "display_name": "3.13.5",
   "language": "python",
   "name": "python3"
  },
  "language_info": {
   "codemirror_mode": {
    "name": "ipython",
    "version": 3
   },
   "file_extension": ".py",
   "mimetype": "text/x-python",
   "name": "python",
   "nbconvert_exporter": "python",
   "pygments_lexer": "ipython3",
   "version": "3.13.5"
  }
 },
 "nbformat": 4,
 "nbformat_minor": 5
}
